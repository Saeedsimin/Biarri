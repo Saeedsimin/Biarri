{
 "cells": [
  {
   "cell_type": "code",
   "execution_count": 3,
   "metadata": {},
   "outputs": [
    {
     "ename": "ModuleNotFoundError",
     "evalue": "No module named 'keras'",
     "output_type": "error",
     "traceback": [
      "\u001b[0;31m---------------------------------------------------------------------------\u001b[0m",
      "\u001b[0;31mModuleNotFoundError\u001b[0m                       Traceback (most recent call last)",
      "Cell \u001b[0;32mIn[3], line 6\u001b[0m\n\u001b[1;32m      4\u001b[0m \u001b[38;5;28;01mimport\u001b[39;00m \u001b[38;5;21;01mglob\u001b[39;00m\n\u001b[1;32m      5\u001b[0m \u001b[38;5;28;01mimport\u001b[39;00m \u001b[38;5;21;01mnumpy\u001b[39;00m \u001b[38;5;28;01mas\u001b[39;00m \u001b[38;5;21;01mnp\u001b[39;00m\n\u001b[0;32m----> 6\u001b[0m \u001b[38;5;28;01mfrom\u001b[39;00m \u001b[38;5;21;01mkeras\u001b[39;00m\u001b[38;5;21;01m.\u001b[39;00m\u001b[38;5;21;01mmodels\u001b[39;00m \u001b[38;5;28;01mimport\u001b[39;00m Sequential\n\u001b[1;32m      7\u001b[0m \u001b[38;5;28;01mfrom\u001b[39;00m \u001b[38;5;21;01mkeras\u001b[39;00m\u001b[38;5;21;01m.\u001b[39;00m\u001b[38;5;21;01mlayers\u001b[39;00m \u001b[38;5;28;01mimport\u001b[39;00m LSTM, Dense\n\u001b[1;32m      8\u001b[0m \u001b[38;5;28;01mfrom\u001b[39;00m \u001b[38;5;21;01msklearn\u001b[39;00m\u001b[38;5;21;01m.\u001b[39;00m\u001b[38;5;21;01mpreprocessing\u001b[39;00m \u001b[38;5;28;01mimport\u001b[39;00m MinMaxScaler\n",
      "\u001b[0;31mModuleNotFoundError\u001b[0m: No module named 'keras'"
     ]
    }
   ],
   "source": [
    "import pandas as pd\n",
    "from pathlib import Path\n",
    "import os\n",
    "import glob\n",
    "import numpy as np\n",
    "from keras.models import Sequential\n",
    "from keras.layers import LSTM, Dense\n",
    "from sklearn.preprocessing import MinMaxScaler\n",
    "\n",
    "# path assignments\n",
    "root = 'Data/' # root direcotry \n",
    "data_filename = 'data_all.csv' # should be updated by the dataset name \n",
    "data_root = root + data_filename\n",
    "# variable assignments\n",
    "\n",
    "# ML variables\n",
    "NORMALIZATION_TAG = False\n",
    "train_split = 0.8\n",
    "\n",
    "# trading sterategy variables\n",
    "entry_threshold = 1.27\n",
    "exit_threshold = 1.17\n",
    "min_hold_time = 30\n",
    "max_hold_time = 60\n"
   ]
  },
  {
   "cell_type": "code",
   "execution_count": 11,
   "metadata": {},
   "outputs": [
    {
     "name": "stdout",
     "output_type": "stream",
     "text": [
      "Data samples before processing: \n",
      "    Time   Price\n",
      "0     0  1.2546\n",
      "1     1  1.2567\n",
      "2     2  1.2577\n",
      "3     3  1.2579\n",
      "4     4  1.2593\n",
      "5     5  1.2668\n",
      "6     6  1.2695\n",
      "7     7  1.2689\n",
      "8     8  1.2679\n",
      "9     9  1.2679\n"
     ]
    },
    {
     "ename": "NameError",
     "evalue": "name 'month' is not defined",
     "output_type": "error",
     "traceback": [
      "\u001b[1;31m---------------------------------------------------------------------------\u001b[0m",
      "\u001b[1;31mNameError\u001b[0m                                 Traceback (most recent call last)",
      "Cell \u001b[1;32mIn[11], line 34\u001b[0m\n\u001b[0;32m     31\u001b[0m         weekday \u001b[39m=\u001b[39m \u001b[39m0\u001b[39m\n\u001b[0;32m     33\u001b[0m \u001b[39mif\u001b[39;00m (idx\u001b[39m+\u001b[39m\u001b[39m1\u001b[39m)\u001b[39m%\u001b[39m(\u001b[39m60\u001b[39m\u001b[39m*\u001b[39m\u001b[39m24\u001b[39m\u001b[39m*\u001b[39m\u001b[39m30\u001b[39m) \u001b[39m==\u001b[39m \u001b[39m0\u001b[39m:\n\u001b[1;32m---> 34\u001b[0m     month \u001b[39m+\u001b[39m\u001b[39m=\u001b[39m \u001b[39m1\u001b[39m\n\u001b[0;32m     35\u001b[0m     \u001b[39mif\u001b[39;00m month\u001b[39m%\u001b[39m\u001b[39m12\u001b[39m \u001b[39m==\u001b[39m \u001b[39m0\u001b[39m:\n\u001b[0;32m     36\u001b[0m         month \u001b[39m=\u001b[39m \u001b[39m0\u001b[39m\n",
      "\u001b[1;31mNameError\u001b[0m: name 'month' is not defined"
     ]
    }
   ],
   "source": [
    "# read the data \n",
    "trade_df = pd.read_csv(data_root)\n",
    "print('Data samples before processing: \\n', trade_df.head(10))\n",
    "\n",
    "\n",
    "# 1 - Pre-process data: cleaning/filling values\n",
    "# As the data does not contain any additional features (X)\n",
    "# and we only have the timestamps in minutes, \n",
    "# creating a meaningful model is a bit challenging, \n",
    "# so we need to add hypothetical features to the data as columns\n",
    "# e.g., hour, day of the week, month, year, etc.\n",
    "\n",
    "minute = 0\n",
    "hour = 0 # 60\n",
    "weekday = 0 # 60*24\n",
    "month = 0 \n",
    "\n",
    "trade_df['minute'] = 0\n",
    "trade_df['hour'] = 0\n",
    "trade_df['weekday'] = 0\n",
    "\n",
    "for idx, row in trade_df.iterrows():\n",
    "    if (idx+1)%60 == 0:\n",
    "        minute = 0\n",
    "        hour += 1\n",
    "        if hour%24 == 0:\n",
    "            hour = 0\n",
    "\n",
    "    if (idx+1)%(60*24) == 0:\n",
    "        weekday += 1\n",
    "        if weekday%7 == 0:\n",
    "            weekday = 0\n",
    "\n",
    "    if (idx+1)%(60*24*30) == 0:\n",
    "        month += 1\n",
    "        if month%12 == 0:\n",
    "            month = 0\n",
    "    minute += 1\n",
    "    trade_df['minute'].at[idx] = minute    \n",
    "    trade_df['hour'].at[idx] = hour    \n",
    "    trade_df['weekday'].at[idx] = weekday    \n",
    "\n",
    "print('Data samples after processing: \\n',trade_df.head(1440))\n",
    "\n"
   ]
  },
  {
   "cell_type": "code",
   "execution_count": 88,
   "metadata": {},
   "outputs": [
    {
     "name": "stdout",
     "output_type": "stream",
     "text": [
      "    minute  hour  weekday\n",
      "0        1     0        0\n",
      "1        2     0        0\n",
      "2        3     0        0\n",
      "3        4     0        0\n",
      "4        5     0        0\n",
      "..     ...   ...      ...\n",
      "65       7     1        0\n",
      "66       8     1        0\n",
      "67       9     1        0\n",
      "68      10     1        0\n",
      "69      11     1        0\n",
      "\n",
      "[70 rows x 3 columns] 0     1.2546\n",
      "1     1.2567\n",
      "2     1.2577\n",
      "3     1.2579\n",
      "4     1.2593\n",
      "       ...  \n",
      "65    1.2674\n",
      "66    1.2681\n",
      "67    1.2678\n",
      "68    1.2705\n",
      "69    1.2714\n",
      "Name: Price, Length: 70, dtype: float64\n"
     ]
    }
   ],
   "source": [
    "# Pre-process data: get the X/Y set\n",
    "X_set = trade_df[['minute','hour','weekday']]\n",
    "Y_set = trade_df['Price']\n",
    "\n",
    "print(X_set.head(70),Y_set.head(70))"
   ]
  },
  {
   "cell_type": "code",
   "execution_count": 89,
   "metadata": {},
   "outputs": [
    {
     "name": "stdout",
     "output_type": "stream",
     "text": [
      "    minute  hour  weekday\n",
      "0        1     0        0\n",
      "1        2     0        0\n",
      "2        3     0        0\n",
      "3        4     0        0\n",
      "4        5     0        0\n",
      "..     ...   ...      ...\n",
      "95      37     1        0\n",
      "96      38     1        0\n",
      "97      39     1        0\n",
      "98      40     1        0\n",
      "99      41     1        0\n",
      "\n",
      "[100 rows x 3 columns] 0     1.2546\n",
      "1     1.2567\n",
      "2     1.2577\n",
      "3     1.2579\n",
      "4     1.2593\n",
      "       ...  \n",
      "95    1.2826\n",
      "96    1.2826\n",
      "97    1.2829\n",
      "98    1.2840\n",
      "99    1.2833\n",
      "Name: Price, Length: 100, dtype: float64\n"
     ]
    }
   ],
   "source": [
    "\n",
    "# Pre-process data: create train/test sets\n",
    "X_set = trade_df[['minute','hour','weekday']]\n",
    "Y_set = trade_df['Price']\n",
    "\n",
    "print(X_set.head(100),Y_set.head(100))\n",
    "\n",
    "X_train = X_set.iloc[:int(train_split*len(trade_df))].to_numpy()\n",
    "Y_train = Y_set.iloc[:int(train_split*len(trade_df))].to_numpy()\n",
    "\n",
    "X_test = X_set.iloc[int(train_split*len(trade_df)):].to_numpy()\n",
    "Y_test = Y_set.iloc[int(train_split*len(trade_df)):].to_numpy()\n",
    "\n",
    "\n"
   ]
  },
  {
   "cell_type": "code",
   "execution_count": 90,
   "metadata": {},
   "outputs": [],
   "source": [
    "# Optional: Normalize the data\n",
    "if NORMALIZATION_TAG:\n",
    "    scaler = MinMaxScaler()\n",
    "    X_train = scaler.fit_transform(X_train)\n",
    "    X_test = scaler.transform(X_test)"
   ]
  },
  {
   "cell_type": "code",
   "execution_count": 91,
   "metadata": {},
   "outputs": [
    {
     "name": "stdout",
     "output_type": "stream",
     "text": [
      "(51961, 40, 3)\n"
     ]
    }
   ],
   "source": [
    "# Reshape data for LSTM\n",
    "\n",
    "time_window = 40  # Example time window size\n",
    "\n",
    "\n",
    "def create_sequences_and_labels(data, labels, time_window):\n",
    "    \"\"\"\n",
    "    Creates sequences of data and corresponding labels with a specific time window size.\n",
    "\n",
    "    Parameters:\n",
    "        data (numpy.ndarray): Input data with shape (n_samples, n_features).\n",
    "        labels (numpy.ndarray): Target labels with shape (n_samples,).\n",
    "        time_window (int): Size of the time window (number of time steps).\n",
    "\n",
    "    Returns:\n",
    "        Tuple[numpy.ndarray, numpy.ndarray]: Array of sequences with shape (n_samples - time_window + 1, time_window, n_features)\n",
    "                                             and corresponding array of labels with shape (n_samples - time_window + 1,).\n",
    "    \"\"\"\n",
    "    sequences = []\n",
    "    target_labels = []\n",
    "    n_samples = len(data)\n",
    "\n",
    "    # Iterate through the data to create sequences and labels\n",
    "    for i in range(n_samples - time_window + 1):\n",
    "        sequence = data[i : i + time_window, :]\n",
    "        label = labels[i + time_window - 1]  # Get the label for the last time step in the sequence\n",
    "        sequences.append(sequence)\n",
    "        target_labels.append(label)\n",
    "\n",
    "    return np.array(sequences), np.array(target_labels)\n",
    "\n",
    "# Create sequences of data with the specified time window size\n",
    "X_train_reshaped, Y_train_reshaped = create_sequences_and_labels(X_train, Y_train, time_window)\n",
    "X_test_reshaped, Y_test_reshaped = create_sequences_and_labels(X_test, Y_test, time_window)\n",
    "\n",
    "print(X_train_reshaped.shape)\n"
   ]
  },
  {
   "cell_type": "code",
   "execution_count": 92,
   "metadata": {},
   "outputs": [],
   "source": [
    "# Define the LSTM model\n",
    "model = Sequential()\n",
    "model.add(LSTM(50, input_shape=(X_train_reshaped.shape[1], X_train_reshaped.shape[2])))\n",
    "model.add(Dense(1))\n",
    "model.compile(optimizer='adam', loss='mse')\n"
   ]
  },
  {
   "cell_type": "code",
   "execution_count": 93,
   "metadata": {},
   "outputs": [
    {
     "name": "stdout",
     "output_type": "stream",
     "text": [
      "Epoch 1/2\n",
      "1624/1624 [==============================] - 27s 15ms/step - loss: 0.0161 - val_loss: 0.0135\n",
      "Epoch 2/2\n",
      "1624/1624 [==============================] - 25s 16ms/step - loss: 0.0144 - val_loss: 0.0109\n"
     ]
    },
    {
     "data": {
      "text/plain": [
       "<keras.src.callbacks.History at 0xc3a75b0bd0>"
      ]
     },
     "execution_count": 93,
     "metadata": {},
     "output_type": "execute_result"
    }
   ],
   "source": [
    "# Train the model\n",
    "model.fit(X_train_reshaped, Y_train_reshaped, epochs=2, batch_size=32, validation_data=(X_test_reshaped, Y_test_reshaped))\n"
   ]
  },
  {
   "cell_type": "code",
   "execution_count": 94,
   "metadata": {},
   "outputs": [
    {
     "name": "stdout",
     "output_type": "stream",
     "text": [
      "406/406 [==============================] - 2s 6ms/step - loss: 0.0109\n"
     ]
    }
   ],
   "source": [
    "# Evaluate the model\n",
    "mse = model.evaluate(X_test_reshaped, Y_test_reshaped)"
   ]
  },
  {
   "cell_type": "code",
   "execution_count": 95,
   "metadata": {},
   "outputs": [
    {
     "name": "stdout",
     "output_type": "stream",
     "text": [
      "406/406 [==============================] - 3s 6ms/step\n"
     ]
    }
   ],
   "source": [
    "# Make predictions\n",
    "predictions = model.predict(X_test_reshaped)"
   ]
  },
  {
   "cell_type": "code",
   "execution_count": 97,
   "metadata": {},
   "outputs": [
    {
     "data": {
      "image/png": "[encoded data removed]",
      "text/plain": [
       "<Figure size 1000x600 with 1 Axes>"
      ]
     },
     "metadata": {},
     "output_type": "display_data"
    }
   ],
   "source": [
    "import matplotlib.pyplot as plt\n",
    "\n",
    "# Assuming X_test_scaled and y_test are your scaled test data and labels\n",
    "\n",
    "# Plot actual vs. predicted values\n",
    "plt.figure(figsize=(10, 6))\n",
    "plt.plot(Y_test, label='Actual', color='blue')\n",
    "plt.plot(predictions, label='Predicted', color='red')\n",
    "plt.title('Actual vs. Predicted Prices')\n",
    "plt.xlabel('Time Step')\n",
    "plt.ylabel('Price')\n",
    "plt.legend()\n",
    "plt.show()"
   ]
  },
  {
   "cell_type": "code",
   "execution_count": 142,
   "metadata": {},
   "outputs": [
    {
     "name": "stdout",
     "output_type": "stream",
     "text": [
      "Opened at 11 (1.3087314), close 40 (1.3087314) for profit 0.024522781\n",
      "Opened at 41 (1.2716366), close 70 (1.2716366) for profit 0.0005398989\n",
      "Opened at 71 (1.3035359), close 100 (1.3035359) for profit 0.01576519\n",
      "Opened at 101 (1.2735376), close 130 (1.2735376) for profit 0.00051796436\n",
      "Opened at 131 (1.2990162), close 160 (1.2990162) for profit 0.008916855\n",
      "Opened at 161 (1.2757273), close 190 (1.2757273) for profit 0.00046730042\n",
      "Opened at 191 (1.2953514), close 220 (1.2953514) for profit 0.003874302\n",
      "Opened at 221 (1.2783079), close 250 (1.2783079) for profit 0.00042366982\n",
      "Opened at 251 (1.2926044), close 280 (1.2926044) for profit 0.00040626526\n",
      "Opened at 281 (1.2812911), close 310 (1.2812911) for profit 0.00040733814\n",
      "Opened at 311 (1.2907712), close 340 (1.2907712) for profit -0.0017834902\n",
      "Opened at 341 (1.2845987), close 370 (1.2845987) for profit 0.00041902065\n",
      "Opened at 371 (1.2898088), close 400 (1.2898088) for profit -0.0030111074\n",
      "Opened at 401 (1.2880274), close 430 (1.2880274) for profit 0.0004453659\n",
      "Opened at 431 (1.2896438), close 460 (1.2896438) for profit -0.003576994\n",
      "Opened at 461 (1.2912883), close 490 (1.2912883) for profit 0.0004748106\n",
      "Opened at 491 (1.2901702), close 520 (1.2901702) for profit -0.0037318468\n",
      "Opened at 521 (1.2941058), close 550 (1.2941058) for profit 0.0004980564\n",
      "Opened at 551 (1.2912407), close 580 (1.2912407) for profit -0.0036537647\n",
      "Opened at 581 (1.2962892), close 610 (1.2962892) for profit 0.00051414967\n",
      "Opened at 611 (1.2926604), close 640 (1.2926604) for profit -0.0034388304\n",
      "Opened at 641 (1.2977384), close 670 (1.2977384) for profit 0.00053179264\n",
      "Opened at 671 (1.294183), close 700 (1.294183) for profit -0.0031228065\n",
      "Opened at 701 (1.2984121), close 730 (1.2984121) for profit 0.0005658865\n",
      "Opened at 731 (1.2955114), close 760 (1.2955114) for profit -0.0027344227\n",
      "Opened at 761 (1.2982838), close 790 (1.2982838) for profit 0.000633955\n",
      "Opened at 791 (1.2963048), close 820 (1.2963048) for profit -0.0023559332\n",
      "Opened at 821 (1.2973084), close 850 (1.2973084) for profit 0.0007494688\n",
      "Opened at 851 (1.2962062), close 880 (1.2962062) for profit -0.002158761\n",
      "Opened at 881 (1.2954121), close 910 (1.2954121) for profit 0.00092077255\n",
      "Opened at 911 (1.2948917), close 940 (1.2948917) for profit -0.002385378\n",
      "Opened at 941 (1.2925036), close 970 (1.2925036) for profit 0.0011489391\n",
      "Opened at 971 (1.292138), close 1000 (1.292138) for profit -0.0032821894\n",
      "Opened at 1001 (1.2885019), close 1030 (1.2885019) for profit 0.001426816\n",
      "Opened at 1031 (1.2878845), close 1060 (1.2878845) for profit -0.005012393\n",
      "Opened at 1061 (1.2833648), close 1090 (1.2833648) for profit 0.0017399788\n",
      "Opened at 1091 (1.2822602), close 1120 (1.2822602) for profit -0.0075945854\n",
      "Opened at 1121 (1.2771118), close 1150 (1.2771118) for profit 0.0020676851\n",
      "Opened at 1151 (1.2755687), close 1180 (1.2755687) for profit -0.0108834505\n",
      "Opened at 1181 (1.26983), close 1210 (1.26983) for profit 0.0023838282\n",
      "Opened at 1211 (1.2962203), close 1240 (1.2962203) for profit 0.013387799\n",
      "Opened at 1241 (1.3152847), close 1270 (1.3152847) for profit -4.4226646e-05\n",
      "Opened at 1273 (1.2927841), close 1302 (1.2927841) for profit -0.004635453\n",
      "Opened at 1308 (1.3168604), close 1337 (1.3168604) for profit 0.00031673908\n",
      "Opened at 1346 (1.3091102), close 1375 (1.3091102) for profit 0.0014141798\n",
      "Opened at 1376 (1.3211038), close 1405 (1.3211038) for profit 0.0004132986\n",
      "Opened at 1406 (1.3085874), close 1435 (1.3085874) for profit 0.0015115738\n",
      "Opened at 1436 (1.3213243), close 1465 (1.3213243) for profit 0.000441432\n",
      "Opened at 1466 (1.3079059), close 1495 (1.3079059) for profit 0.001693368\n",
      "Opened at 1496 (1.3206601), close 1525 (1.3206601) for profit 0.0004043579\n",
      "Opened at 1526 (1.306849), close 1555 (1.306849) for profit 0.0019538403\n",
      "Opened at 1556 (1.3194681), close 1585 (1.3194681) for profit 0.00030720234\n",
      "Opened at 1586 (1.3051327), close 1615 (1.3051327) for profit 0.0022794008\n",
      "Opened at 1616 (1.3180933), close 1645 (1.3180933) for profit 0.00016450882\n",
      "Opened at 1646 (1.3025734), close 1675 (1.3025734) for profit 0.0026414394\n",
      "Opened at 1676 (1.3168008), close 1705 (1.3168008) for profit -4.7683716e-07\n",
      "Opened at 1706 (1.2992258), close 1735 (1.2992258) for profit 0.0029966831\n",
      "Opened at 1736 (1.3157202), close 1765 (1.3157202) for profit -0.00015568733\n",
      "Opened at 1766 (1.2953107), close 1795 (1.2953107) for profit 0.0033079386\n",
      "Opened at 1796 (1.3148186), close 1825 (1.3148186) for profit -0.0002667904\n",
      "Opened at 1826 (1.2909861), close 1855 (1.2909861) for profit 0.0035556555\n",
      "Opened at 1856 (1.3139225), close 1885 (1.3139225) for profit -0.0003091097\n",
      "Opened at 1886 (1.2862891), close 1915 (1.2862891) for profit 0.0037226677\n",
      "Opened at 2290 (1.2884127), close 2319 (1.2884127) for profit -0.0012434721\n",
      "Opened at 2320 (1.281824), close 2349 (1.281824) for profit 0.0014122725\n",
      "Opened at 2350 (1.2859741), close 2379 (1.2859741) for profit -0.0010340214\n",
      "Opened at 6460 (1.2113068), close 6489 (1.2113068) for profit 0.0018639565\n",
      "Opened at 6490 (1.2176139), close 6519 (1.2176139) for profit -0.0018240213\n",
      "Opened at 6520 (1.2090795), close 6549 (1.2090795) for profit 0.0020639896\n",
      "Opened at 6550 (1.2192477), close 6579 (1.2192477) for profit -0.0017204285\n",
      "Opened at 7840 (1.1892568), close 7869 (1.1892568) for profit 0.0019654036\n",
      "Opened at 7870 (1.1924814), close 7899 (1.1924814) for profit -0.0019987822\n",
      "Opened at 7900 (1.1884651), close 7929 (1.1884651) for profit 0.0021728277\n",
      "Opened at 7930 (1.195372), close 7959 (1.195372) for profit -0.0020616055\n",
      "Opened at 7960 (1.1869802), close 7989 (1.1869802) for profit 0.0023851395\n",
      "Opened at 7990 (1.1985012), close 8019 (1.1985012) for profit -0.001998186\n",
      "Opened at 8020 (1.1848519), close 8049 (1.1848519) for profit 0.002595663\n",
      "Opened at 8050 (1.2016218), close 8079 (1.2016218) for profit -0.0018224716\n",
      "Opened at 8080 (1.1821297), close 8109 (1.1821297) for profit 0.0027935505\n",
      "Opened at 8110 (1.2045194), close 8139 (1.2045194) for profit -0.001562357\n",
      "Opened at 8140 (1.1788677), close 8169 (1.1788677) for profit 0.002961278\n",
      "Opened at 8170 (1.2070392), close 8199 (1.2070392) for profit -0.0012520552\n",
      "Opened at 8200 (1.1751326), close 8229 (1.1751326) for profit 0.0030779839\n",
      "Opened at 8230 (1.2090952), close 8259 (1.2090952) for profit -0.0009263754\n",
      "Opened at 8260 (1.1710105), close 8289 (1.1710105) for profit 0.003120184\n",
      "Opened at 8290 (1.2106664), close 8319 (1.2106664) for profit -0.00061285496\n",
      "Opened at 8320 (1.1666111), close 8349 (1.1666111) for profit 0.0030617714\n",
      "Opened at 8350 (1.2117791), close 8379 (1.2117791) for profit -0.00033032894\n",
      "Opened at 8380 (1.1620699), close 8409 (1.1620699) for profit 0.0028754473\n",
      "Opened at 8410 (1.2124883), close 8439 (1.2124883) for profit -8.6426735e-05\n",
      "Opened at 8440 (1.2334119), close 8469 (1.2334119) for profit -0.0005311966\n",
      "Opened at 8470 (1.226851), close 8499 (1.226851) for profit -0.00089740753\n",
      "Opened at 8500 (1.2358959), close 8529 (1.2358959) for profit -0.00034189224\n",
      "Opened at 8530 (1.2337623), close 8559 (1.2337623) for profit -0.000962615\n",
      "Opened at 8560 (1.2378911), close 8589 (1.2378911) for profit -0.00019991398\n",
      "Opened at 8590 (1.2383465), close 8619 (1.2383465) for profit -0.0011017323\n",
      "Opened at 8620 (1.2392981), close 8649 (1.2392981) for profit -0.00010347366\n",
      "Opened at 8650 (1.2407671), close 8679 (1.2407671) for profit -0.0012702942\n",
      "Opened at 8680 (1.2402416), close 8709 (1.2402416) for profit -5.733967e-05\n",
      "Opened at 8710 (1.2412788), close 8739 (1.2412788) for profit -0.0014283657\n",
      "Opened at 8740 (1.2408165), close 8769 (1.2408165) for profit -4.851818e-05\n",
      "Opened at 8770 (1.2402171), close 8799 (1.2402171) for profit -0.0015478134\n",
      "Opened at 8800 (1.2410488), close 8829 (1.2410488) for profit -4.9829483e-05\n",
      "Opened at 8830 (1.2379706), close 8859 (1.2379706) for profit -0.0016173124\n",
      "Opened at 8860 (1.2408608), close 8889 (1.2408608) for profit -3.015995e-05\n",
      "Opened at 8890 (1.2349459), close 8919 (1.2349459) for profit -0.0016425848\n",
      "Opened at 8920 (1.2400937), close 8949 (1.2400937) for profit 2.8252602e-05\n",
      "Opened at 8950 (1.2315356), close 8979 (1.2315356) for profit -0.001638174\n",
      "Opened at 8980 (1.2385892), close 9009 (1.2385892) for profit 0.00011897087\n",
      "Opened at 9010 (1.2280887), close 9039 (1.2280887) for profit -0.0016222\n",
      "Opened at 9040 (1.2362826), close 9069 (1.2362826) for profit 0.00021862984\n",
      "Opened at 9070 (1.2248898), close 9099 (1.2248898) for profit -0.0016047955\n",
      "Opened at 9100 (1.2332636), close 9129 (1.2332636) for profit 0.00030076504\n",
      "Opened at 9130 (1.2221391), close 9159 (1.2221391) for profit -0.0015852451\n",
      "Opened at 9160 (1.2297784), close 9189 (1.2297784) for profit 0.00035011768\n",
      "Opened at 9192 (1.2270056), close 9221 (1.2270056) for profit 0.009220958\n",
      "Opened at 9222 (1.2269428), close 9251 (1.2269428) for profit 0.0003979206\n",
      "Opened at 9252 (1.2267494), close 9281 (1.2267494) for profit 0.00948143\n",
      "Opened at 9282 (1.2235099), close 9311 (1.2235099) for profit 0.00037670135\n",
      "Opened at 9319 (1.1922667), close 9348 (1.1922667) for profit -0.005597234\n",
      "Opened at 9351 (1.2101804), close 9360 (1.2101804) for profit 0.0028281212\n",
      "Total Profit: 0.15777898\n"
     ]
    }
   ],
   "source": [
    "# Assuming X_Set and Y_Set are your input data and target labels\n",
    "# Assuming X_Set has columns 'minute', 'hour', 'weekday' and Y_Set contains prices\n",
    "\n",
    "\n",
    "HOLD_TAG = True\n",
    "counter = 0\n",
    "# Implement trading strategy\n",
    "positions = []  # List to store trading positions (1 for buy, -1 for sell, 0 for hold)\n",
    "entry_price = None\n",
    "for i in range(len(predictions)):\n",
    "    price = predictions[i][0]\n",
    "\n",
    "    if entry_price is None:  # No position open\n",
    "        if price > entry_threshold:\n",
    "            positions.append(1)  # Buy\n",
    "            entry_price = price\n",
    "            counter += 1\n",
    "        else:\n",
    "            positions.append(0)  # Hold\n",
    "    else:  # Position already open\n",
    "        counter += 1\n",
    "        if counter >= 30:\n",
    "            if price < exit_threshold:\n",
    "                positions.append(-1)  # Sell\n",
    "                entry_price = None\n",
    "                counter = 0\n",
    "            elif counter == 60:\n",
    "                positions.append(-1)  # Sell\n",
    "                entry_price = None\n",
    "                counter = 0                 \n",
    "        else:\n",
    "            positions.append(0)  # Hold\n",
    "positions[-1] = -1\n",
    "# Calculate profit based on trading positions\n",
    "profit = 0\n",
    "all_entered = [idx for idx, value in enumerate(positions) if value==1]\n",
    "all_closed = [idx for idx, value in enumerate(positions) if value==-1]\n",
    "\n",
    "pos_counter = 0\n",
    "for i in range(1, len(positions)):\n",
    "    if positions[i] == -1:  # Sell\n",
    "        point_value = predictions[i] - predictions[i-1]\n",
    "        profit +=  point_value # Profit from selling\n",
    "        print('Opened at '+str(all_entered[pos_counter])+' ('+str(predictions[i][0])+'), close '+str(all_closed[pos_counter])+' ('+str(predictions[i][0])+') for profit ' + str(point_value[0]))\n",
    "        pos_counter += 1\n",
    "    elif positions[i] == 1:  # Buy\n",
    "        profit -= predictions[i] - predictions[i-1]  # Loss from buying\n",
    "print('Total Profit: '+str(profit[0]))"
   ]
  }
 ],
 "metadata": {
  "kernelspec": {
   "display_name": "base",
   "language": "python",
   "name": "python3"
  },
  "language_info": {
   "codemirror_mode": {
    "name": "ipython",
    "version": 3
   },
   "file_extension": ".py",
   "mimetype": "text/x-python",
   "name": "python",
   "nbconvert_exporter": "python",
   "pygments_lexer": "ipython3",
   "version": "3.11.5"
  },
  "orig_nbformat": 4
 },
 "nbformat": 4,
 "nbformat_minor": 2
}
